{
 "cells": [
  {
   "cell_type": "code",
   "execution_count": null,
   "id": "2f1e2c11",
   "metadata": {},
   "outputs": [],
   "source": [
    "# Sterling Vivier Assignment 1\n",
    "#Phys 404 Spring 2022\n",
    "import pylab as p                          \n",
    "import numpy as np\n",
    "\n",
    "#creating a pi variable\n",
    "pi= 3.1415\n",
    "#bound setting\n",
    "Xmin= (np.pi)*-1\n",
    "Xmax= np.pi\n",
    "\n",
    "#arranges the values on the x-axis. range from -pi to +pi\n",
    "x = arange(Xmin, Xmax, .01) # arrange::(starting point, ending point, increment)\n",
    "#defines the first function where n=11\n",
    "y= pi/2 +2 *(sin(x)+ sin(3*x)/3 + sin(5*x)/5 + sin(11*x)/11)\n",
    "#plots first function\n",
    "p.plot(x,y)\n",
    "\n",
    "#defines the second function where n=21\n",
    "y= pi/2 +2 *(sin(x)+ sin(3*x)/3 + sin(5*x)/5 + sin(21*x)/21)\n",
    "#plots second function\n",
    "p.plot(x, y)\n",
    "\n",
    "#defines the third function where n=31\n",
    "y= pi/2 +2 *(sin(x)+ sin(3*x)/3 + sin(5*x)/5 + sin(31*x)/31)\n",
    "#plots third function\n",
    "p.plot(x, y)"
   ]
  }
 ],
 "metadata": {
  "kernelspec": {
   "display_name": "Python 3",
   "language": "python",
   "name": "python3"
  },
  "language_info": {
   "codemirror_mode": {
    "name": "ipython",
    "version": 3
   },
   "file_extension": ".py",
   "mimetype": "text/x-python",
   "name": "python",
   "nbconvert_exporter": "python",
   "pygments_lexer": "ipython3",
   "version": "3.8.8"
  }
 },
 "nbformat": 4,
 "nbformat_minor": 5
}
