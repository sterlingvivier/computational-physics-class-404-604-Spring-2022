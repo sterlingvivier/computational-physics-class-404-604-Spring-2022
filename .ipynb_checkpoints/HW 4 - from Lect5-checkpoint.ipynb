{
 "cells": [
  {
   "cell_type": "code",
   "execution_count": 1,
   "id": "0a513eee",
   "metadata": {},
   "outputs": [
    {
     "name": "stdout",
     "output_type": "stream",
     "text": [
      "x1 is equal to  1.550659712935723  and x2 is equal to  -3.331750913791567\n"
     ]
    }
   ],
   "source": [
    "#HW 4, PHYS 404, Sterling Vivier\n",
    "\n",
    "import matplotlib.pyplot as plt #homework\n",
    "import numpy as np #importing necessary libraries\n",
    "\n",
    "#finding the solution for the system of equations using Newton-Raphson method\n",
    "# x1^2 + x1x2 = 10 (F1)\n",
    "# x2 + 3x1x2^2 = 57 (F2)\n",
    "\n",
    "#partial derivatives for each function are as follows::\n",
    "# f1 with respect to x1 :: 2x1 + x2\n",
    "# f1 with respect to x2 :: x1\n",
    "\n",
    "#f2 with respect to x1 :: 3x2^2\n",
    "#f2 with respect to x2 :: 1 + 6x1x2\n",
    "\n",
    "\n",
    "def f1(x1,x2): #returns f1\n",
    "    return (x1*x1+x1*x2-10.)\n",
    "\n",
    "def f2(x1,x2): #returns f2\n",
    "    return (x2+3*x1*x2*x2-57)\n",
    "\n",
    "def f1x1(x1,x2): #partial x1/ can be solved analytically\n",
    "    return ((2*x1) + x2)\n",
    "\n",
    "def f1x2(x1,x2): #partial x2\n",
    "    return (x1)\n",
    "    \n",
    "def f2x1(x1,x2): #partial f2x1\n",
    "    return (3*x2**2)\n",
    "    \n",
    "def f2x2(x1,x2): #partial f2x2\n",
    "    return (1 + (6 * x1*x2))\n",
    "    \n",
    "def dx1(f1,f2,f1x1,f1x2,f2x1,f2x2,x1,x2): #calculates deltax1\n",
    "    top=(f1x2 * f2) - (f2x2 * f1)\n",
    "    bottom=(f1x1*f2x2 - f1x2*f2x1)\n",
    "    return (top/bottom)\n",
    "\n",
    "def dx2(f1,f2,f1x1,f1x2,f2x1,f2x2,x1,x2): #calculates deltax2\n",
    "    top=(f2x1 * f1) - (f1x1 * f2)\n",
    "    bottom=(f1x1*f2x2 - f1x2*f2x1)\n",
    "    return (top/bottom)\n",
    "    \n",
    "eps = 1.e-8\n",
    "x1=1 #initial guesses\n",
    "x2=1 \n",
    "\n",
    "for i in range (0, 100): #iterates until root is found\n",
    "    \n",
    "\n",
    "    F1=f1(x1, x2) #defining variables that call\n",
    "    F2=f2(x1, x2) #the above functions in order\n",
    "    a=f1x1(x1, x2)#to be used as parameters in\n",
    "    b=f1x2(x1, x2)#dx1 && dx2\n",
    "    c=f2x1(x1, x2)\n",
    "    d=f2x2(x1, x2)\n",
    "\n",
    "    dX=dx1(F1, F2, a, b, c, d, x1, x2) #creates variables for dx1&&dx2\n",
    "    dX2=dx2(F1, F2, a, b, c, d, x1, x2)\n",
    "\n",
    "    x1=x1 + dX #adds dX && dX2 to the initial guesses\n",
    "    x2=x1 + dX2\n",
    "    \n",
    "    if(f1(x1, x2)<eps and f2(x1,x2)<eps):\n",
    "        break #breaks loop when correct value is found\n",
    "    \n",
    "print(\"x1 is equal to \", x1, \" and x2 is equal to \", x2) #prints solution"
   ]
  },
  {
   "cell_type": "code",
   "execution_count": null,
   "id": "c8cde5ba",
   "metadata": {},
   "outputs": [],
   "source": []
  }
 ],
 "metadata": {
  "kernelspec": {
   "display_name": "Python 3",
   "language": "python",
   "name": "python3"
  },
  "language_info": {
   "codemirror_mode": {
    "name": "ipython",
    "version": 3
   },
   "file_extension": ".py",
   "mimetype": "text/x-python",
   "name": "python",
   "nbconvert_exporter": "python",
   "pygments_lexer": "ipython3",
   "version": "3.8.8"
  }
 },
 "nbformat": 4,
 "nbformat_minor": 5
}
