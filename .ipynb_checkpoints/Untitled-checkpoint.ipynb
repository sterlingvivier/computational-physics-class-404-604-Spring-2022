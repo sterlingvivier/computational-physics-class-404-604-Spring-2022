{
 "cells": [
  {
   "cell_type": "code",
   "execution_count": null,
   "id": "7da481d2",
   "metadata": {},
   "outputs": [],
   "source": [
    "# Burger's equation:\n",
    "\n",
    "import numpy as np\n",
    "import matplotlib.pyplot as plt\n",
    "from mpl_toolkits.mplot3d import Axes3D\n",
    "\n",
    "# Model Parameters\n",
    "xmin = -10.0   # left boundary\n",
    "xmax = +10.0   # right boundary\n",
    "Nx = 101      # number of grid points (including boundary)\n",
    "tend = 10.0    # end time\n",
    "dtout = 1.0   # time interval for outputs\n",
    "\n",
    "# Set up the grid.\n",
    "x = np.linspace(xmin, xmax, Nx)\n",
    "dx = (xmax - xmin) / (Nx - 1)\n",
    "dt = 0.8 * dx\n",
    "U = np.zeros(Nx,)\n",
    "\n",
    "# Give the initial profile.\n",
    "t = 0.0\n",
    "U = 0.2 + 0.8 * np.exp(-0.5 * x**2)"
   ]
  }
 ],
 "metadata": {
  "kernelspec": {
   "display_name": "Python 3",
   "language": "python",
   "name": "python3"
  },
  "language_info": {
   "codemirror_mode": {
    "name": "ipython",
    "version": 3
   },
   "file_extension": ".py",
   "mimetype": "text/x-python",
   "name": "python",
   "nbconvert_exporter": "python",
   "pygments_lexer": "ipython3",
   "version": "3.8.8"
  }
 },
 "nbformat": 4,
 "nbformat_minor": 5
}
