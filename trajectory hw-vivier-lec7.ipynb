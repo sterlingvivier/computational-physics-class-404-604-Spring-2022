{
 "cells": [
  {
   "cell_type": "code",
   "execution_count": 5,
   "id": "09d16bde",
   "metadata": {},
   "outputs": [
    {
     "data": {
      "image/png": "[encoded data removed]",
      "text/plain": [
       "<Figure size 432x288 with 1 Axes>"
      ]
     },
     "metadata": {
      "needs_background": "light"
     },
     "output_type": "display_data"
    }
   ],
   "source": [
    "import numpy as np\n",
    "import matplotlib.pyplot as plt\n",
    "\n",
    "# Sterling Vivier, PHYS 404\n",
    "\n",
    "# Undergraduate student:\n",
    "# A person throws a ball upwards at a speed of 10 m/s, please calculate the trajectory using Runge-Kutta method\n",
    "# and plot height (z) vs time (t).\n",
    "\n",
    "# y[0]=x, y[1]=vx = v0costheta, y[2]= y, y[3]= vy= v)sintheta\n",
    "# f[0]= dx/dt=vx/ f[1]=dvx/dt=0/ f[2]=dy/dt=vy/ f[3]=dvy/dt=-g\n",
    "\n",
    "tend=2.*np.pi\n",
    "h=0.001\n",
    "t=0\n",
    "g=9.81\n",
    "y= [0, 10] #defining y vector. using initial positions for x&&y=0\n",
    "\n",
    "def f(t, y): #defining functions\n",
    "    f=np.zeros(2)\n",
    "    f[0]= y[1] \n",
    "    f[1]= -g\n",
    "    return f\n",
    "\n",
    "def rk4(t, h, y, n): #Runge-Kutta method\n",
    "    k1 = np.zeros(n)\n",
    "    k2 = np.zeros(n)\n",
    "    k3 = np.zeros(n)\n",
    "    k4 = np.zeros(n)\n",
    "    k1=h*f(t,y)\n",
    "    k2=h*f(t+0.5*h,y+0.5*k1)\n",
    "    k3=h*f(t+0.5*h,y+0.5*k2) \n",
    "    k4=h*f(t+h,y+k3) \n",
    "    y+=(1/6)*(k1 + 2*k2 + 2*k3 + k4) \n",
    "    return y\n",
    "\n",
    "yp=[]\n",
    "tp=[]\n",
    "\n",
    "while(t<tend): #iterating\n",
    "    if((t+h)>tend):\n",
    "        h=tend-t\n",
    "    y = rk4(t,h,y,2)\n",
    "    yp=np.append(yp, y[0])\n",
    "    t = t+h\n",
    "    tp=np.append(tp,t)\n",
    "\n",
    "plt.plot(tp,yp) #plotting height vs time\n",
    "plt.title(\"trajectory of a ball\")\n",
    "plt.ylabel(\"height\")\n",
    "plt.xlabel(\"time\")\n",
    "plt.show()"
   ]
  },
  {
   "cell_type": "code",
   "execution_count": null,
   "id": "140bcc96",
   "metadata": {},
   "outputs": [],
   "source": []
  }
 ],
 "metadata": {
  "kernelspec": {
   "display_name": "Python 3",
   "language": "python",
   "name": "python3"
  },
  "language_info": {
   "codemirror_mode": {
    "name": "ipython",
    "version": 3
   },
   "file_extension": ".py",
   "mimetype": "text/x-python",
   "name": "python",
   "nbconvert_exporter": "python",
   "pygments_lexer": "ipython3",
   "version": "3.8.8"
  }
 },
 "nbformat": 4,
 "nbformat_minor": 5
}
